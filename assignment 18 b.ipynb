{
 "cells": [
  {
   "cell_type": "code",
   "execution_count": 6,
   "id": "e0df7217",
   "metadata": {},
   "outputs": [
    {
     "name": "stdout",
     "output_type": "stream",
     "text": [
      "95% Confidence Interval: (48.210805856282846, 51.789194143717154)\n"
     ]
    }
   ],
   "source": [
    "'''\n",
    "Q1. Calculate the 95% confidence interval for a sample of data with a mean of 50 and a standard deviation\n",
    "of 5 using Python. Interpret the results.\n",
    "'''\n",
    "\n",
    "import scipy.stats as stats\n",
    "\n",
    "# Sample data\n",
    "mean = 50\n",
    "std_dev = 5\n",
    "confidence_level = 0.95\n",
    "n = 30  # Assuming sample size (typically needed for degrees of freedom calculation)\n",
    "\n",
    "# Calculate standard error of the mean\n",
    "standard_error = std_dev / (n**0.5)\n",
    "\n",
    "# Calculate margin of error using z-score for 95% confidence level\n",
    "z_score = stats.norm.ppf((1 + confidence_level) / 2)  # Two-tailed test\n",
    "margin_of_error = z_score * standard_error\n",
    "\n",
    "# Calculate confidence interval\n",
    "lower_bound = mean - margin_of_error\n",
    "upper_bound = mean + margin_of_error\n",
    "\n",
    "print(f\"95% Confidence Interval: ({lower_bound}, {upper_bound})\")\n"
   ]
  },
  {
   "cell_type": "code",
   "execution_count": 7,
   "id": "5251c316",
   "metadata": {},
   "outputs": [
    {
     "name": "stdout",
     "output_type": "stream",
     "text": [
      "[8.0, 8.0, 8.0, 4.0, 4.0, 8.0]\n",
      "Accept Null hypothesis\n"
     ]
    }
   ],
   "source": [
    "'''\n",
    "Q2. Conduct a chi-square goodness of fit test to determine if the distribution of colors of M&Ms in a bag\n",
    "matches the expected distribution of 20% blue, 20% orange, 20% green, 10% yellow, 10% red, and 20%\n",
    "brown. Use Python to perform the test with a significance level of 0.05.\n",
    "\n",
    "'''\n",
    "\n",
    "\n",
    "\n",
    "import scipy.stats as stats\n",
    "\n",
    "\n",
    "def chi_result(segLevel,obser,per,n):\n",
    "    exp = []\n",
    "    for i in range(len(per)):\n",
    "        val = n*per[i]\n",
    "        exp.append(val)\n",
    "    print(exp)  \n",
    "    \n",
    "    if len(exp)!=len(obser):\n",
    "        raise ValueError(\"Lengths of observed and expected frequencies do not match.\")\n",
    "    chi_val,p_val = stats.chisquare(obser,exp)\n",
    "    DOF = len(obser)-1\n",
    "    critical_val = stats.chi2.ppf(1-segLevel,DOF)\n",
    "    \n",
    "    if chi_val>critical_val:\n",
    "        print(\"reject Null hypothesis\")\n",
    "    else: \n",
    "        print(\"Accept Null hypothesis\")\n",
    "        \n",
    "oFre=[10,10,12,2,2,4]\n",
    "per = [0.2,0.2,0.2,0.1,0.1,0.2]\n",
    "seg = 0.05\n",
    "n=40\n",
    "\n",
    "chi_result(seg,oFre,per,n)"
   ]
  },
  {
   "cell_type": "code",
   "execution_count": 8,
   "id": "e4302b3f",
   "metadata": {},
   "outputs": [
    {
     "name": "stdout",
     "output_type": "stream",
     "text": [
      "Contingency Table:\n",
      "          cat1  cat2  cat3\n",
      "Outcome1    20    10    15\n",
      "Outcome2    15    25    20\n",
      "\n",
      "Chi-square Statistic: 5.833333333333334\n",
      "P-value: 0.05411376622282158\n",
      "Degrees of Freedom: 2\n",
      "Expected Frequencies Table:\n",
      "          cat1  cat2  cat3\n",
      "Outcome1  15.0  15.0  15.0\n",
      "Outcome2  20.0  20.0  20.0\n",
      "\n",
      "Fail to reject null hypothesis: There is no significant relationship between categories and outcomes.\n"
     ]
    }
   ],
   "source": [
    "'''\n",
    "Q3. Use Python to calculate the chi-square statistic and p-value for a contingency table with the following\n",
    "data:\n",
    "\n",
    "\n",
    "'''\n",
    "import pandas as pd\n",
    "import scipy.stats as stats\n",
    "\n",
    "# Define the data in a pandas DataFrame\n",
    "data = {\n",
    "    'cat1': [20, 15],\n",
    "    'cat2': [10, 25],\n",
    "    'cat3': [15, 20]\n",
    "}\n",
    "\n",
    "df = pd.DataFrame(data, index=['Outcome1', 'Outcome2'])\n",
    "print(\"Contingency Table:\")\n",
    "print(df)\n",
    "\n",
    "# Perform chi-square test for independence\n",
    "chi2_stat, p_val, dof, expected = stats.chi2_contingency(df)\n",
    "\n",
    "# Print results\n",
    "print(\"\\nChi-square Statistic:\", chi2_stat)\n",
    "print(\"P-value:\", p_val)\n",
    "print(\"Degrees of Freedom:\", dof)\n",
    "print(\"Expected Frequencies Table:\")\n",
    "print(pd.DataFrame(expected, index=df.index, columns=df.columns))\n",
    "\n",
    "# Interpret results\n",
    "alpha = 0.05\n",
    "if p_val < alpha:\n",
    "    print(\"Reject null hypothesis: There is a significant relationship between categories and outcomes.\")\n",
    "else:\n",
    "    print(\"\\nFail to reject null hypothesis: There is no significant relationship between categories and outcomes.\")\n"
   ]
  },
  {
   "cell_type": "code",
   "execution_count": 9,
   "id": "37fba7b9",
   "metadata": {},
   "outputs": [
    {
     "name": "stdout",
     "output_type": "stream",
     "text": [
      "95% Confidence Interval for the true proportion of smokers: (0.0915, 0.1485)\n"
     ]
    }
   ],
   "source": [
    "'''\n",
    "Q4. A study of the prevalence of smoking in a population of 500 individuals found that 60 individuals\n",
    "smoked. Use Python to calculate the 95% confidence interval for the true proportion of individuals in the\n",
    "population who smoke.\n",
    "'''\n",
    "\n",
    "import numpy as np\n",
    "import scipy.stats as stats\n",
    "\n",
    "# Sample size and number of smokers\n",
    "n = 500\n",
    "smokers = 60\n",
    "\n",
    "# Calculate sample proportion\n",
    "p_hat = smokers / n\n",
    "\n",
    "# Calculate standard error\n",
    "std_error = np.sqrt(p_hat * (1 - p_hat) / n)\n",
    "\n",
    "# Calculate margin of error for 95% confidence level\n",
    "z_score = stats.norm.ppf(0.975)  # 0.975 to get 95% in two-tailed test\n",
    "margin_of_error = z_score * std_error\n",
    "\n",
    "# Calculate confidence interval\n",
    "lower_bound = p_hat - margin_of_error\n",
    "upper_bound = p_hat + margin_of_error\n",
    "\n",
    "print(f\"95% Confidence Interval for the true proportion of smokers: ({lower_bound:.4f}, {upper_bound:.4f})\")\n"
   ]
  },
  {
   "cell_type": "code",
   "execution_count": 10,
   "id": "e66fd05f",
   "metadata": {},
   "outputs": [
    {
     "name": "stdout",
     "output_type": "stream",
     "text": [
      "90% Confidence Interval: (74.12, 75.88)\n"
     ]
    }
   ],
   "source": [
    "'''\n",
    "Q5. Calculate the 90% confidence interval for a sample of data with a mean of 75 and a standard deviation\n",
    "of 12 using Python. Interpret the results.\n",
    "'''\n",
    "\n",
    "\n",
    "\n",
    "import numpy as np\n",
    "import scipy.stats as stats\n",
    "\n",
    "# Sample data\n",
    "mean = 75\n",
    "std_dev = 12\n",
    "confidence_level = 0.90\n",
    "\n",
    "# Calculate standard error\n",
    "std_error = std_dev / np.sqrt(n)  # If sample size n was provided, otherwise for large sample size\n",
    "\n",
    "# Calculate margin of error using z-score for 90% confidence level\n",
    "z_score = stats.norm.ppf((1 + confidence_level) / 2)  # Two-tailed test\n",
    "margin_of_error = z_score * std_error\n",
    "\n",
    "# Calculate confidence interval\n",
    "lower_bound = mean - margin_of_error\n",
    "upper_bound = mean + margin_of_error\n",
    "\n",
    "print(f\"90% Confidence Interval: ({lower_bound:.2f}, {upper_bound:.2f})\")\n"
   ]
  },
  {
   "cell_type": "code",
   "execution_count": 11,
   "id": "c9731f77",
   "metadata": {},
   "outputs": [
    {
     "data": {
      "image/png": "[encoded data removed]",
      "text/plain": [
       "<Figure size 800x500 with 1 Axes>"
      ]
     },
     "metadata": {},
     "output_type": "display_data"
    }
   ],
   "source": [
    "'''\n",
    "Q6. Use Python to plot the chi-square distribution with 10 degrees of freedom. Label the axes and shade the\n",
    "area corresponding to a chi-square statistic of 15.\n",
    "'''\n",
    "\n",
    "\n",
    "import numpy as np\n",
    "import matplotlib.pyplot as plt\n",
    "import scipy.stats as stats\n",
    "\n",
    "# Define degrees of freedom\n",
    "df = 10\n",
    "\n",
    "# Generate x values for the chi-square distribution\n",
    "x = np.linspace(0, 30, 1000)\n",
    "\n",
    "# Calculate chi-square probability density function\n",
    "y = stats.chi2.pdf(x, df)\n",
    "\n",
    "# Plot the chi-square distribution\n",
    "plt.figure(figsize=(8, 5))\n",
    "plt.plot(x, y, label=f'Chi-square Distribution (df={df})')\n",
    "\n",
    "# Shade the area under the curve where chi-square <= 15\n",
    "x_fill = np.linspace(0, 15, 1000)\n",
    "y_fill = stats.chi2.pdf(x_fill, df)\n",
    "plt.fill_between(x_fill, y_fill, color='b', alpha=0.3, label='Chi-square <= 15')\n",
    "\n",
    "# Labeling the plot\n",
    "plt.title(f'Chi-square Distribution with df={df}')\n",
    "plt.xlabel('Chi-square Value')\n",
    "plt.ylabel('Probability Density Function')\n",
    "plt.legend()\n",
    "plt.grid(True)\n",
    "plt.show()\n"
   ]
  },
  {
   "cell_type": "code",
   "execution_count": 12,
   "id": "7b69d2a7",
   "metadata": {},
   "outputs": [
    {
     "name": "stdout",
     "output_type": "stream",
     "text": [
      "99% Confidence Interval for Coke Preference: (0.4793, 0.5607)\n"
     ]
    }
   ],
   "source": [
    "'''\n",
    "Q7. A random sample of 1000 people was asked if they preferred Coke or Pepsi. Of the sample, 520\n",
    "preferred Coke. Calculate a 99% confidence interval for the true proportion of people in the population who\n",
    "prefer Coke.\n",
    "'''\n",
    "import numpy as np\n",
    "import scipy.stats as stats\n",
    "\n",
    "# Sample size and number who prefer Coke\n",
    "n = 1000\n",
    "coke_preference = 520\n",
    "\n",
    "# Calculate sample proportion\n",
    "p_hat = coke_preference / n\n",
    "\n",
    "# Calculate standard error\n",
    "std_error = np.sqrt(p_hat * (1 - p_hat) / n)\n",
    "\n",
    "# Calculate margin of error for 99% confidence level\n",
    "z_score = stats.norm.ppf(0.995)  # 0.995 to get 99% in two-tailed test\n",
    "margin_of_error = z_score * std_error\n",
    "\n",
    "# Calculate confidence interval\n",
    "lower_bound = p_hat - margin_of_error\n",
    "upper_bound = p_hat + margin_of_error\n",
    "\n",
    "print(f\"99% Confidence Interval for Coke Preference: ({lower_bound:.4f}, {upper_bound:.4f})\")\n"
   ]
  },
  {
   "cell_type": "code",
   "execution_count": 13,
   "id": "8a46d3da",
   "metadata": {},
   "outputs": [
    {
     "name": "stdout",
     "output_type": "stream",
     "text": [
      "Chi-square Statistic: 1.0\n",
      "P-value: 0.31731050786291115\n",
      "Degrees of Freedom: 1\n",
      "Fail to reject null hypothesis: Observed frequencies match expected frequencies.\n"
     ]
    }
   ],
   "source": [
    "'''\n",
    "Q8. A researcher hypothesizes that a coin is biased towards tails. They flip the coin 100 times and observe\n",
    "45 tails. Conduct a chi-square goodness of fit test to determine if the observed frequencies match the\n",
    "expected frequencies of a fair coin. Use a significance level of 0.05.\n",
    "\n",
    "'''\n",
    "import numpy as np\n",
    "import scipy.stats as stats\n",
    "\n",
    "# Observed frequencies\n",
    "observed_freq = [45, 55]  # Tails = 45, Heads = 55\n",
    "\n",
    "# Expected frequencies for a fair coin\n",
    "expected_freq = [50, 50]  # Expected 50 tails and 50 heads for 100 flips\n",
    "\n",
    "# Perform chi-square goodness of fit test\n",
    "chi2_stat, p_val = stats.chisquare(observed_freq, f_exp=expected_freq)\n",
    "\n",
    "# Degrees of freedom\n",
    "df = len(observed_freq) - 1\n",
    "\n",
    "# Print results\n",
    "print(f\"Chi-square Statistic: {chi2_stat}\")\n",
    "print(f\"P-value: {p_val}\")\n",
    "print(f\"Degrees of Freedom: {df}\")\n",
    "\n",
    "# Compare chi2_stat with critical value and make a conclusion\n",
    "alpha = 0.05\n",
    "critical_value = stats.chi2.ppf(1 - alpha, df)\n",
    "\n",
    "if chi2_stat > critical_value:\n",
    "    print(\"Reject null hypothesis: Observed frequencies do not match expected frequencies.\")\n",
    "else:\n",
    "    print(\"Fail to reject null hypothesis: Observed frequencies match expected frequencies.\")\n"
   ]
  },
  {
   "cell_type": "code",
   "execution_count": 14,
   "id": "f636f56a",
   "metadata": {},
   "outputs": [
    {
     "name": "stdout",
     "output_type": "stream",
     "text": [
      "Contingency Table:\n",
      "                  Smoker  Non-Smoker\n",
      "Lung Cancer: Yes      60          30\n",
      "Lung Cancer: No      140         170\n",
      "\n",
      "Chi-square Statistic: 12.057347670250895\n",
      "P-value: 0.0005158863863703744\n",
      "Degrees of Freedom: 1\n",
      "Expected Frequencies Table:\n",
      "                  Smoker  Non-Smoker\n",
      "Lung Cancer: Yes    45.0        45.0\n",
      "Lung Cancer: No    155.0       155.0\n",
      "\n",
      "Reject null hypothesis: There is a significant association between smoking status and lung cancer diagnosis.\n"
     ]
    }
   ],
   "source": [
    "'''\n",
    "Q9. A study was conducted to determine if there is an association between smoking status (smoker or\n",
    "non-smoker) and lung cancer diagnosis (yes or no). The results are shown in the contingency table below.\n",
    "Conduct a chi-square test for independence to determine if there is a significant association between\n",
    "smoking status and lung cancer diagnosis.\n",
    "'''\n",
    "import pandas as pd\n",
    "import numpy as np\n",
    "import scipy.stats as stats\n",
    "\n",
    "# Define the contingency table\n",
    "data = {\n",
    "    'Smoker': [60, 140],\n",
    "    'Non-Smoker': [30, 170]\n",
    "}\n",
    "\n",
    "df = pd.DataFrame(data, index=['Lung Cancer: Yes', 'Lung Cancer: No'])\n",
    "print(\"Contingency Table:\")\n",
    "print(df)\n",
    "\n",
    "# Perform chi-square test for independence\n",
    "chi2_stat, p_val, dof, expected = stats.chi2_contingency(df)\n",
    "\n",
    "# Print results\n",
    "print(\"\\nChi-square Statistic:\", chi2_stat)\n",
    "print(\"P-value:\", p_val)\n",
    "print(\"Degrees of Freedom:\", dof)\n",
    "print(\"Expected Frequencies Table:\")\n",
    "print(pd.DataFrame(expected, index=df.index, columns=df.columns))\n",
    "\n",
    "# Compare with significance level\n",
    "alpha = 0.05\n",
    "if p_val < alpha:\n",
    "    print(\"\\nReject null hypothesis: There is a significant association between smoking status and lung cancer diagnosis.\")\n",
    "else:\n",
    "    print(\"\\nFail to reject null hypothesis: There is no significant association between smoking status and lung cancer diagnosis.\")\n"
   ]
  },
  {
   "cell_type": "code",
   "execution_count": 15,
   "id": "e40f8261",
   "metadata": {},
   "outputs": [
    {
     "name": "stdout",
     "output_type": "stream",
     "text": [
      "Contingency Table:\n",
      "                 U.S. (n=500)  U.K. (n=500)\n",
      "Milk Chocolate            200           255\n",
      "Dark Chocolate            150           175\n",
      "White Chocolate           150           100\n",
      "\n",
      "Chi-square Statistic: 17.712668463611866\n",
      "P-value: 0.0001424763934746156\n",
      "Degrees of Freedom: 2\n",
      "Expected Frequencies Table:\n",
      "                 U.S. (n=500)  U.K. (n=500)\n",
      "Milk Chocolate     220.873786    234.126214\n",
      "Dark Chocolate     157.766990    167.233010\n",
      "White Chocolate    121.359223    128.640777\n",
      "\n",
      "Reject null hypothesis: There is a significant association between chocolate preference and country of origin.\n"
     ]
    }
   ],
   "source": [
    "'''\n",
    "Q10. A study was conducted to determine if the proportion of people who prefer milk chocolate, dark\n",
    "chocolate, or white chocolate is different in the U.S. versus the U.K. A random sample of 500 people from\n",
    "the U.S. and a random sample of 500 people from the U.K. were surveyed. The results are shown in the\n",
    "contingency table below. Conduct a chi-square test for independence to determine if there is a significant\n",
    "association between chocolate preference and country of origin.\n",
    "'''\n",
    "import pandas as pd\n",
    "import numpy as np\n",
    "import scipy.stats as stats\n",
    "\n",
    "# Define the contingency table\n",
    "data = {\n",
    "    'U.S. (n=500)': [200, 150, 150],\n",
    "    'U.K. (n=500)': [255, 175, 100]\n",
    "}\n",
    "\n",
    "df = pd.DataFrame(data, index=['Milk Chocolate', 'Dark Chocolate', 'White Chocolate'])\n",
    "print(\"Contingency Table:\")\n",
    "print(df)\n",
    "\n",
    "# Perform chi-square test for independence\n",
    "chi2_stat, p_val, dof, expected = stats.chi2_contingency(df)\n",
    "\n",
    "# Print results\n",
    "print(\"\\nChi-square Statistic:\", chi2_stat)\n",
    "print(\"P-value:\", p_val)\n",
    "print(\"Degrees of Freedom:\", dof)\n",
    "print(\"Expected Frequencies Table:\")\n",
    "print(pd.DataFrame(expected, index=df.index, columns=df.columns))\n",
    "\n",
    "# Compare with significance level\n",
    "alpha = 0.01\n",
    "if p_val < alpha:\n",
    "    print(\"\\nReject null hypothesis: There is a significant association between chocolate preference and country of origin.\")\n",
    "else:\n",
    "    print(\"\\nFail to reject null hypothesis: There is no significant association between chocolate preference and country of origin.\")\n",
    "\n",
    "    "
   ]
  },
  {
   "cell_type": "code",
   "execution_count": 16,
   "id": "13abad8c",
   "metadata": {},
   "outputs": [
    {
     "name": "stdout",
     "output_type": "stream",
     "text": [
      "T-statistic: 1.0954451150103321\n",
      "Critical Value: 2.045229642132703\n",
      "Fail to reject null hypothesis: Population mean is not significantly different from 70.\n"
     ]
    }
   ],
   "source": [
    "'''\n",
    "Q11. A random sample of 30 people was selected from a population with an unknown mean and standard\n",
    "deviation. The sample mean was found to be 72 and the sample standard deviation was found to be 10.\n",
    "Conduct a hypothesis test to determine if the population mean is significantly different from 70. Use a\n",
    "significance level of 0.05.\n",
    "'''\n",
    "import numpy as np\n",
    "import scipy.stats as stats\n",
    "\n",
    "# Sample data\n",
    "sample_mean = 72\n",
    "sample_std_dev = 10\n",
    "n = 30\n",
    "pop_mean = 70\n",
    "alpha = 0.05\n",
    "\n",
    "# Calculate the t-statistic\n",
    "t_stat = (sample_mean - pop_mean) / (sample_std_dev / np.sqrt(n))\n",
    "\n",
    "# Find the critical value (two-tailed test)\n",
    "critical_value = stats.t.ppf(1 - alpha/2, df=n-1)\n",
    "\n",
    "# Print the test statistic and critical value\n",
    "print(f\"T-statistic: {t_stat}\")\n",
    "print(f\"Critical Value: {critical_value}\")\n",
    "\n",
    "# Perform the hypothesis test\n",
    "if np.abs(t_stat) > critical_value:\n",
    "    print(\"Reject null hypothesis: Population mean is significantly different from 70.\")\n",
    "else:\n",
    "    print(\"Fail to reject null hypothesis: Population mean is not significantly different from 70.\")\n",
    "\n",
    "    "
   ]
  },
  {
   "cell_type": "code",
   "execution_count": null,
   "id": "e1935854",
   "metadata": {},
   "outputs": [],
   "source": []
  }
 ],
 "metadata": {
  "kernelspec": {
   "display_name": "Python 3 (ipykernel)",
   "language": "python",
   "name": "python3"
  },
  "language_info": {
   "codemirror_mode": {
    "name": "ipython",
    "version": 3
   },
   "file_extension": ".py",
   "mimetype": "text/x-python",
   "name": "python",
   "nbconvert_exporter": "python",
   "pygments_lexer": "ipython3",
   "version": "3.12.4"
  }
 },
 "nbformat": 4,
 "nbformat_minor": 5
}
